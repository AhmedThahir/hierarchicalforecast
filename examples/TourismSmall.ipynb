{
 "cells": [
  {
   "cell_type": "markdown",
   "id": "843cf8de-d678-4243-a8af-d78439058e6a",
   "metadata": {},
   "source": [
    "# Hierarchical Reconciliation for TourismSmall dataset"
   ]
  },
  {
   "cell_type": "markdown",
   "id": "0a836410-7063-4766-b03c-7d22b6abe457",
   "metadata": {},
   "source": [
    "Large collections of time series organized into structures at different aggregation levels of-\n",
    "ten require their forecasts to follow their aggregation constraints, which poses the challenge\n",
    "of creating novel algorithms capable of coherent forecasts.\n",
    "\n",
    "The HierarchicalForecast package provides a wide collection of Python implementations of hierarchical forecasting algorithms that follow classic hierarchical reconciliation."
   ]
  },
  {
   "cell_type": "code",
   "execution_count": 1,
   "id": "7f777bdd-dff4-4bc0-8529-b492874de6f0",
   "metadata": {},
   "outputs": [
    {
     "name": "stdout",
     "output_type": "stream",
     "text": [
      "Requirement already satisfied: statsforecast in /Users/fedex/opt/miniconda3/envs/hierarchicalforecast/lib/python3.10/site-packages (0.5.6)\n",
      "Requirement already satisfied: datasetsforecast in /Users/fedex/opt/miniconda3/envs/hierarchicalforecast/lib/python3.10/site-packages (0.0.3)\n",
      "Requirement already satisfied: numpy in /Users/fedex/opt/miniconda3/envs/hierarchicalforecast/lib/python3.10/site-packages (from statsforecast) (1.22.4)\n",
      "Requirement already satisfied: numba in /Users/fedex/opt/miniconda3/envs/hierarchicalforecast/lib/python3.10/site-packages (from statsforecast) (0.55.2)\n",
      "Requirement already satisfied: statsmodels in /Users/fedex/opt/miniconda3/envs/hierarchicalforecast/lib/python3.10/site-packages (from statsforecast) (0.13.2)\n",
      "Requirement already satisfied: scipy in /Users/fedex/opt/miniconda3/envs/hierarchicalforecast/lib/python3.10/site-packages (from statsforecast) (1.8.1)\n",
      "Requirement already satisfied: pandas in /Users/fedex/opt/miniconda3/envs/hierarchicalforecast/lib/python3.10/site-packages (from statsforecast) (1.4.2)\n",
      "Requirement already satisfied: pip in /Users/fedex/opt/miniconda3/envs/hierarchicalforecast/lib/python3.10/site-packages (from datasetsforecast) (22.1.2)\n",
      "Requirement already satisfied: packaging in /Users/fedex/opt/miniconda3/envs/hierarchicalforecast/lib/python3.10/site-packages (from datasetsforecast) (21.3)\n",
      "Requirement already satisfied: tqdm in /Users/fedex/opt/miniconda3/envs/hierarchicalforecast/lib/python3.10/site-packages (from datasetsforecast) (4.64.0)\n",
      "Requirement already satisfied: setuptools in /Users/fedex/opt/miniconda3/envs/hierarchicalforecast/lib/python3.10/site-packages (from numba->statsforecast) (62.6.0)\n",
      "Requirement already satisfied: llvmlite<0.39,>=0.38.0rc1 in /Users/fedex/opt/miniconda3/envs/hierarchicalforecast/lib/python3.10/site-packages (from numba->statsforecast) (0.38.1)\n",
      "Requirement already satisfied: pyparsing!=3.0.5,>=2.0.2 in /Users/fedex/opt/miniconda3/envs/hierarchicalforecast/lib/python3.10/site-packages (from packaging->datasetsforecast) (3.0.9)\n",
      "Requirement already satisfied: python-dateutil>=2.8.1 in /Users/fedex/opt/miniconda3/envs/hierarchicalforecast/lib/python3.10/site-packages (from pandas->statsforecast) (2.8.2)\n",
      "Requirement already satisfied: pytz>=2020.1 in /Users/fedex/opt/miniconda3/envs/hierarchicalforecast/lib/python3.10/site-packages (from pandas->statsforecast) (2022.1)\n",
      "Requirement already satisfied: patsy>=0.5.2 in /Users/fedex/opt/miniconda3/envs/hierarchicalforecast/lib/python3.10/site-packages (from statsmodels->statsforecast) (0.5.2)\n",
      "Requirement already satisfied: six in /Users/fedex/opt/miniconda3/envs/hierarchicalforecast/lib/python3.10/site-packages (from patsy>=0.5.2->statsmodels->statsforecast) (1.16.0)\n"
     ]
    }
   ],
   "source": [
    "#!pip install hierarchicalforecast\n",
    "!pip install statsforecast datasetsforecast"
   ]
  },
  {
   "cell_type": "code",
   "execution_count": 2,
   "id": "f7a5828a-2fb4-4811-9e07-0ee291331978",
   "metadata": {},
   "outputs": [],
   "source": [
    "import numpy as np\n",
    "import pandas as pd\n",
    "\n",
    "#obtain hierarchical dataset\n",
    "from datasetsforecast.hierarchical import HierarchicalData\n",
    "#obtain hierarchical reconciliation methods and evaluation\n",
    "from hierarchicalforecast.core import HierarchicalReconciliation\n",
    "from hierarchicalforecast.evaluation import HierarchicalEvaluation\n",
    "from hierarchicalforecast.methods import BottomUp, TopDown, MiddleOut\n",
    "# compute base forecast no coherent\n",
    "from statsforecast.core import StatsForecast\n",
    "from statsforecast.models import auto_arima, naive"
   ]
  },
  {
   "cell_type": "markdown",
   "id": "3e921d0e-ac88-440a-a961-02ef9844b403",
   "metadata": {},
   "source": [
    "In this example we will use the `TourismSmall` dataset. The following cell obtaines the time series for the different levels in the hierarchy, the summing matrix `S` which recovers the full dataset from the bottom level hierarchy and the indices of each hierarchy denoted by `tags`."
   ]
  },
  {
   "cell_type": "code",
   "execution_count": 3,
   "id": "c18a4300-5b8f-45b5-92ce-e52f8c4dab20",
   "metadata": {},
   "outputs": [],
   "source": [
    "Y_df, S, tags = HierarchicalData.load('./data', 'TourismSmall')\n",
    "Y_df['ds'] = pd.to_datetime(Y_df['ds'])"
   ]
  },
  {
   "cell_type": "markdown",
   "id": "56a7aadb-6e2c-456a-a0b5-b29b30deadb5",
   "metadata": {},
   "source": [
    "We split the dataframe in train/test splits."
   ]
  },
  {
   "cell_type": "code",
   "execution_count": 4,
   "id": "462451d8-2fc0-445e-9458-908811011dd9",
   "metadata": {},
   "outputs": [],
   "source": [
    "Y_df_test = Y_df.groupby('unique_id').tail(12)\n",
    "Y_df_train = Y_df.drop(Y_df_test.index)"
   ]
  },
  {
   "cell_type": "code",
   "execution_count": 5,
   "id": "ab321103-cca1-4931-8f5d-cd8026ab63fe",
   "metadata": {},
   "outputs": [],
   "source": [
    "Y_df_test = Y_df_test.set_index('unique_id')\n",
    "Y_df_train = Y_df_train.set_index('unique_id')"
   ]
  },
  {
   "cell_type": "markdown",
   "id": "b7cfb43a-cd16-418c-a04b-e075c176cc9e",
   "metadata": {},
   "source": [
    "The following cell computes the *base forecast* for each time series using the `auto_arima` and `naive` models. Observe that `Y_hat_df` contains the forecast but they are not coherent."
   ]
  },
  {
   "cell_type": "code",
   "execution_count": 6,
   "id": "f99e7b7b-f4b8-4f2f-a1a7-c8be98a1e280",
   "metadata": {},
   "outputs": [
    {
     "name": "stderr",
     "output_type": "stream",
     "text": [
      "INFO:statsforecast.core:Computing forecasts\n",
      "/Users/fedex/opt/miniconda3/envs/hierarchicalforecast/lib/python3.10/site-packages/statsforecast/arima.py:1041: RuntimeWarning: invalid value encountered in sqrt\n",
      "  return any(np.isnan(np.sqrt(np.diag(obj['var_coef']))))\n",
      "/Users/fedex/opt/miniconda3/envs/hierarchicalforecast/lib/python3.10/site-packages/statsforecast/arima.py:1041: RuntimeWarning: invalid value encountered in sqrt\n",
      "  return any(np.isnan(np.sqrt(np.diag(obj['var_coef']))))\n",
      "/Users/fedex/opt/miniconda3/envs/hierarchicalforecast/lib/python3.10/site-packages/statsforecast/arima.py:1041: RuntimeWarning: invalid value encountered in sqrt\n",
      "  return any(np.isnan(np.sqrt(np.diag(obj['var_coef']))))\n",
      "/Users/fedex/opt/miniconda3/envs/hierarchicalforecast/lib/python3.10/site-packages/statsforecast/arima.py:1041: RuntimeWarning: invalid value encountered in sqrt\n",
      "  return any(np.isnan(np.sqrt(np.diag(obj['var_coef']))))\n",
      "/Users/fedex/opt/miniconda3/envs/hierarchicalforecast/lib/python3.10/site-packages/scipy/optimize/_numdiff.py:576: RuntimeWarning: invalid value encountered in subtract\n",
      "  df = fun(x) - f0\n",
      "/Users/fedex/opt/miniconda3/envs/hierarchicalforecast/lib/python3.10/site-packages/scipy/optimize/_numdiff.py:576: RuntimeWarning: invalid value encountered in subtract\n",
      "  df = fun(x) - f0\n",
      "/Users/fedex/opt/miniconda3/envs/hierarchicalforecast/lib/python3.10/site-packages/scipy/optimize/_numdiff.py:576: RuntimeWarning: invalid value encountered in subtract\n",
      "  df = fun(x) - f0\n",
      "/Users/fedex/opt/miniconda3/envs/hierarchicalforecast/lib/python3.10/site-packages/statsforecast/arima.py:1041: RuntimeWarning: invalid value encountered in sqrt\n",
      "  return any(np.isnan(np.sqrt(np.diag(obj['var_coef']))))\n",
      "/Users/fedex/opt/miniconda3/envs/hierarchicalforecast/lib/python3.10/site-packages/statsforecast/arima.py:1041: RuntimeWarning: invalid value encountered in sqrt\n",
      "  return any(np.isnan(np.sqrt(np.diag(obj['var_coef']))))\n",
      "/Users/fedex/opt/miniconda3/envs/hierarchicalforecast/lib/python3.10/site-packages/statsforecast/arima.py:1041: RuntimeWarning: invalid value encountered in sqrt\n",
      "  return any(np.isnan(np.sqrt(np.diag(obj['var_coef']))))\n",
      "/Users/fedex/opt/miniconda3/envs/hierarchicalforecast/lib/python3.10/site-packages/statsforecast/arima.py:1041: RuntimeWarning: invalid value encountered in sqrt\n",
      "  return any(np.isnan(np.sqrt(np.diag(obj['var_coef']))))\n",
      "/Users/fedex/opt/miniconda3/envs/hierarchicalforecast/lib/python3.10/site-packages/statsforecast/arima.py:1041: RuntimeWarning: invalid value encountered in sqrt\n",
      "  return any(np.isnan(np.sqrt(np.diag(obj['var_coef']))))\n",
      "/Users/fedex/opt/miniconda3/envs/hierarchicalforecast/lib/python3.10/site-packages/statsforecast/arima.py:1041: RuntimeWarning: invalid value encountered in sqrt\n",
      "  return any(np.isnan(np.sqrt(np.diag(obj['var_coef']))))\n",
      "/Users/fedex/opt/miniconda3/envs/hierarchicalforecast/lib/python3.10/site-packages/statsforecast/arima.py:1041: RuntimeWarning: invalid value encountered in sqrt\n",
      "  return any(np.isnan(np.sqrt(np.diag(obj['var_coef']))))\n",
      "/Users/fedex/opt/miniconda3/envs/hierarchicalforecast/lib/python3.10/site-packages/statsforecast/arima.py:1041: RuntimeWarning: invalid value encountered in sqrt\n",
      "  return any(np.isnan(np.sqrt(np.diag(obj['var_coef']))))\n",
      "/Users/fedex/opt/miniconda3/envs/hierarchicalforecast/lib/python3.10/site-packages/statsforecast/arima.py:1041: RuntimeWarning: invalid value encountered in sqrt\n",
      "  return any(np.isnan(np.sqrt(np.diag(obj['var_coef']))))\n",
      "/Users/fedex/opt/miniconda3/envs/hierarchicalforecast/lib/python3.10/site-packages/statsforecast/arima.py:1041: RuntimeWarning: invalid value encountered in sqrt\n",
      "  return any(np.isnan(np.sqrt(np.diag(obj['var_coef']))))\n",
      "/Users/fedex/opt/miniconda3/envs/hierarchicalforecast/lib/python3.10/site-packages/statsforecast/arima.py:1041: RuntimeWarning: invalid value encountered in sqrt\n",
      "  return any(np.isnan(np.sqrt(np.diag(obj['var_coef']))))\n",
      "/Users/fedex/opt/miniconda3/envs/hierarchicalforecast/lib/python3.10/site-packages/statsforecast/arima.py:1041: RuntimeWarning: invalid value encountered in sqrt\n",
      "  return any(np.isnan(np.sqrt(np.diag(obj['var_coef']))))\n",
      "/Users/fedex/opt/miniconda3/envs/hierarchicalforecast/lib/python3.10/site-packages/statsforecast/arima.py:1041: RuntimeWarning: invalid value encountered in sqrt\n",
      "  return any(np.isnan(np.sqrt(np.diag(obj['var_coef']))))\n",
      "/Users/fedex/opt/miniconda3/envs/hierarchicalforecast/lib/python3.10/site-packages/statsforecast/arima.py:1041: RuntimeWarning: invalid value encountered in sqrt\n",
      "  return any(np.isnan(np.sqrt(np.diag(obj['var_coef']))))\n",
      "INFO:statsforecast.core:Computed forecasts for auto_arima_season_length-12.\n",
      "INFO:statsforecast.core:Computed forecasts for naive.\n"
     ]
    }
   ],
   "source": [
    "fcst = StatsForecast(df=Y_df_train, models=[(auto_arima,12), naive], freq='M', n_jobs=-1)\n",
    "Y_hat_df = fcst.forecast(h=12)"
   ]
  },
  {
   "cell_type": "markdown",
   "id": "cc296762-2009-4aef-8b31-f24aad9d0787",
   "metadata": {},
   "source": [
    "The following cell makes the previous forecasts coherent. The used methods to make the forecasts coherent are:\n",
    "- `BottomUp`: The reconciliation of the method is a simple addition to the upper levels.\n",
    "- `TopDown`: The second method constrains the base-level predictions to the top-most aggregate-level serie and then distributes it to the disaggregate series through the use of proportions. \n",
    "- `MiddleOut`: Anchors the base predictions in a middle level."
   ]
  },
  {
   "cell_type": "code",
   "execution_count": 7,
   "id": "a43be9e7-99a9-4981-bfd7-8552efba9751",
   "metadata": {},
   "outputs": [],
   "source": [
    "reconcilers = [\n",
    "    BottomUp(),\n",
    "    TopDown(method='forecast_proportions'),\n",
    "    MiddleOut(level='Country/Purpose/State', top_down_method='forecast_proportions')\n",
    "]\n",
    "hrec = HierarchicalReconciliation(reconcilers=reconcilers)\n",
    "Y_rec_df = hrec.reconcile(Y_hat_df, Y_df_train, S, tags)"
   ]
  },
  {
   "cell_type": "markdown",
   "id": "03c4752c-53f8-4b1f-8169-32075b8e4050",
   "metadata": {},
   "source": [
    "The `HierarchicalForecast` package includes the `HierarchicalEvaluation` class to evaluate the different hierarchies and also is capable of compute scaled metrics compared to a benchmark model."
   ]
  },
  {
   "cell_type": "code",
   "execution_count": 8,
   "id": "a793cff0-e6bf-469d-86d8-cf6ce7a8d922",
   "metadata": {},
   "outputs": [
    {
     "data": {
      "text/html": [
       "<div>\n",
       "<style scoped>\n",
       "    .dataframe tbody tr th:only-of-type {\n",
       "        vertical-align: middle;\n",
       "    }\n",
       "\n",
       "    .dataframe tbody tr th {\n",
       "        vertical-align: top;\n",
       "    }\n",
       "\n",
       "    .dataframe thead th {\n",
       "        text-align: right;\n",
       "    }\n",
       "</style>\n",
       "<table border=\"1\" class=\"dataframe\">\n",
       "  <thead>\n",
       "    <tr style=\"text-align: right;\">\n",
       "      <th></th>\n",
       "      <th></th>\n",
       "      <th>auto_arima_season_length-12</th>\n",
       "      <th>naive</th>\n",
       "      <th>auto_arima_season_length-12/BottomUp</th>\n",
       "      <th>naive/BottomUp</th>\n",
       "      <th>auto_arima_season_length-12/TopDown_method-forecast_proportions</th>\n",
       "      <th>naive/TopDown_method-forecast_proportions</th>\n",
       "      <th>auto_arima_season_length-12/MiddleOut_level-Country/Purpose/State_top_down_method-forecast_proportions</th>\n",
       "      <th>naive/MiddleOut_level-Country/Purpose/State_top_down_method-forecast_proportions</th>\n",
       "    </tr>\n",
       "    <tr>\n",
       "      <th>level</th>\n",
       "      <th>metric</th>\n",
       "      <th></th>\n",
       "      <th></th>\n",
       "      <th></th>\n",
       "      <th></th>\n",
       "      <th></th>\n",
       "      <th></th>\n",
       "      <th></th>\n",
       "      <th></th>\n",
       "    </tr>\n",
       "  </thead>\n",
       "  <tbody>\n",
       "    <tr>\n",
       "      <th>Overall</th>\n",
       "      <th>mse-scaled</th>\n",
       "      <td>0.958433</td>\n",
       "      <td>1.0</td>\n",
       "      <td>0.908254</td>\n",
       "      <td>1.0</td>\n",
       "      <td>0.973065</td>\n",
       "      <td>1.0</td>\n",
       "      <td>0.896154</td>\n",
       "      <td>1.0</td>\n",
       "    </tr>\n",
       "    <tr>\n",
       "      <th>Country</th>\n",
       "      <th>mse-scaled</th>\n",
       "      <td>1.05191</td>\n",
       "      <td>1.0</td>\n",
       "      <td>0.978696</td>\n",
       "      <td>1.0</td>\n",
       "      <td>1.05191</td>\n",
       "      <td>1.0</td>\n",
       "      <td>0.950772</td>\n",
       "      <td>1.0</td>\n",
       "    </tr>\n",
       "    <tr>\n",
       "      <th>Country/Purpose</th>\n",
       "      <th>mse-scaled</th>\n",
       "      <td>0.903941</td>\n",
       "      <td>1.0</td>\n",
       "      <td>0.861644</td>\n",
       "      <td>1.0</td>\n",
       "      <td>0.887653</td>\n",
       "      <td>1.0</td>\n",
       "      <td>0.830192</td>\n",
       "      <td>1.0</td>\n",
       "    </tr>\n",
       "    <tr>\n",
       "      <th>Country/Purpose/State</th>\n",
       "      <th>mse-scaled</th>\n",
       "      <td>0.909366</td>\n",
       "      <td>1.0</td>\n",
       "      <td>0.867018</td>\n",
       "      <td>1.0</td>\n",
       "      <td>0.973846</td>\n",
       "      <td>1.0</td>\n",
       "      <td>0.909366</td>\n",
       "      <td>1.0</td>\n",
       "    </tr>\n",
       "    <tr>\n",
       "      <th>Country/Purpose/State/CityNonCity</th>\n",
       "      <th>mse-scaled</th>\n",
       "      <td>0.84693</td>\n",
       "      <td>1.0</td>\n",
       "      <td>0.84693</td>\n",
       "      <td>1.0</td>\n",
       "      <td>0.949697</td>\n",
       "      <td>1.0</td>\n",
       "      <td>0.885367</td>\n",
       "      <td>1.0</td>\n",
       "    </tr>\n",
       "  </tbody>\n",
       "</table>\n",
       "</div>"
      ],
      "text/plain": [
       "                                             auto_arima_season_length-12  \\\n",
       "level                             metric                                   \n",
       "Overall                           mse-scaled                    0.958433   \n",
       "Country                           mse-scaled                     1.05191   \n",
       "Country/Purpose                   mse-scaled                    0.903941   \n",
       "Country/Purpose/State             mse-scaled                    0.909366   \n",
       "Country/Purpose/State/CityNonCity mse-scaled                     0.84693   \n",
       "\n",
       "                                             naive  \\\n",
       "level                             metric             \n",
       "Overall                           mse-scaled   1.0   \n",
       "Country                           mse-scaled   1.0   \n",
       "Country/Purpose                   mse-scaled   1.0   \n",
       "Country/Purpose/State             mse-scaled   1.0   \n",
       "Country/Purpose/State/CityNonCity mse-scaled   1.0   \n",
       "\n",
       "                                             auto_arima_season_length-12/BottomUp  \\\n",
       "level                             metric                                            \n",
       "Overall                           mse-scaled                             0.908254   \n",
       "Country                           mse-scaled                             0.978696   \n",
       "Country/Purpose                   mse-scaled                             0.861644   \n",
       "Country/Purpose/State             mse-scaled                             0.867018   \n",
       "Country/Purpose/State/CityNonCity mse-scaled                              0.84693   \n",
       "\n",
       "                                             naive/BottomUp  \\\n",
       "level                             metric                      \n",
       "Overall                           mse-scaled            1.0   \n",
       "Country                           mse-scaled            1.0   \n",
       "Country/Purpose                   mse-scaled            1.0   \n",
       "Country/Purpose/State             mse-scaled            1.0   \n",
       "Country/Purpose/State/CityNonCity mse-scaled            1.0   \n",
       "\n",
       "                                             auto_arima_season_length-12/TopDown_method-forecast_proportions  \\\n",
       "level                             metric                                                                       \n",
       "Overall                           mse-scaled                                           0.973065                \n",
       "Country                           mse-scaled                                            1.05191                \n",
       "Country/Purpose                   mse-scaled                                           0.887653                \n",
       "Country/Purpose/State             mse-scaled                                           0.973846                \n",
       "Country/Purpose/State/CityNonCity mse-scaled                                           0.949697                \n",
       "\n",
       "                                             naive/TopDown_method-forecast_proportions  \\\n",
       "level                             metric                                                 \n",
       "Overall                           mse-scaled                                       1.0   \n",
       "Country                           mse-scaled                                       1.0   \n",
       "Country/Purpose                   mse-scaled                                       1.0   \n",
       "Country/Purpose/State             mse-scaled                                       1.0   \n",
       "Country/Purpose/State/CityNonCity mse-scaled                                       1.0   \n",
       "\n",
       "                                             auto_arima_season_length-12/MiddleOut_level-Country/Purpose/State_top_down_method-forecast_proportions  \\\n",
       "level                             metric                                                                                                              \n",
       "Overall                           mse-scaled                                           0.896154                                                       \n",
       "Country                           mse-scaled                                           0.950772                                                       \n",
       "Country/Purpose                   mse-scaled                                           0.830192                                                       \n",
       "Country/Purpose/State             mse-scaled                                           0.909366                                                       \n",
       "Country/Purpose/State/CityNonCity mse-scaled                                           0.885367                                                       \n",
       "\n",
       "                                             naive/MiddleOut_level-Country/Purpose/State_top_down_method-forecast_proportions  \n",
       "level                             metric                                                                                       \n",
       "Overall                           mse-scaled                                                1.0                                \n",
       "Country                           mse-scaled                                                1.0                                \n",
       "Country/Purpose                   mse-scaled                                                1.0                                \n",
       "Country/Purpose/State             mse-scaled                                                1.0                                \n",
       "Country/Purpose/State/CityNonCity mse-scaled                                                1.0                                "
      ]
     },
     "execution_count": 8,
     "metadata": {},
     "output_type": "execute_result"
    }
   ],
   "source": [
    "def mse(y, y_hat):\n",
    "    return np.mean((y-y_hat)**2)\n",
    "\n",
    "evaluator = HierarchicalEvaluation(evaluators=[mse])\n",
    "evaluator.evaluate(Y_h=Y_rec_df, Y_test=Y_df_test, \n",
    "                   tags=tags, benchmark='naive')"
   ]
  }
 ],
 "metadata": {
  "kernelspec": {
   "display_name": "Python 3 (ipykernel)",
   "language": "python",
   "name": "python3"
  },
  "language_info": {
   "codemirror_mode": {
    "name": "ipython",
    "version": 3
   },
   "file_extension": ".py",
   "mimetype": "text/x-python",
   "name": "python",
   "nbconvert_exporter": "python",
   "pygments_lexer": "ipython3",
   "version": "3.10.5"
  }
 },
 "nbformat": 4,
 "nbformat_minor": 5
}
