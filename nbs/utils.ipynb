{
 "cells": [
  {
   "cell_type": "code",
   "execution_count": null,
   "id": "b3226c32-707e-45a6-ab7f-9d8f33924670",
   "metadata": {},
   "outputs": [],
   "source": [
    "#| default_exp utils"
   ]
  },
  {
   "cell_type": "markdown",
   "id": "5955e6c8-f4cd-49a6-b6c8-b91c4392a6d3",
   "metadata": {},
   "source": [
    "# Utils for Hierarchical Time Series Forecasting"
   ]
  },
  {
   "cell_type": "code",
   "execution_count": null,
   "id": "74967eef-4a18-433e-9dc8-d5e8e6d7dd9a",
   "metadata": {},
   "outputs": [],
   "source": [
    "#| export\n",
    "from itertools import chain\n",
    "from typing import Callable, Dict, List, Optional\n",
    "\n",
    "import matplotlib.pyplot as plt\n",
    "import numpy as np\n",
    "import pandas as pd\n",
    "from sklearn.preprocessing import OneHotEncoder\n",
    "from matplotlib import rcParams\n",
    "from mycolorpy import colorlist as mcp\n",
    "\n",
    "plt.rcParams['font.family'] = 'serif'"
   ]
  },
  {
   "cell_type": "code",
   "execution_count": null,
   "id": "3a501424-ebfd-403c-982e-280cb859bd0f",
   "metadata": {},
   "outputs": [],
   "source": [
    "#| hide\n",
    "from fastcore.test import test_eq\n",
    "from nbdev.showdoc import add_docs, show_doc"
   ]
  },
  {
   "cell_type": "code",
   "execution_count": null,
   "id": "e585c763-cba5-48f5-a021-822622f3b4ba",
   "metadata": {},
   "outputs": [],
   "source": [
    "#| exporti\n",
    "def _to_summing_matrix(S_df: pd.DataFrame):\n",
    "    \"\"\"Transforms the DataFrame `df` of hierarchies to a summing matrix S.\"\"\"\n",
    "    categories = [S_df[col].unique() for col in S_df.columns]\n",
    "    cat_sizes = [len(cats) for cats in categories]\n",
    "    idx_bottom = np.argmax(cat_sizes)\n",
    "    cats_bottom = categories[idx_bottom]\n",
    "    encoder = OneHotEncoder(categories=categories, sparse=False, dtype=np.float32)\n",
    "    S = encoder.fit_transform(S_df).T\n",
    "    S = pd.DataFrame(S, index=chain(*categories), columns=cats_bottom)\n",
    "    tags = dict(zip(S_df.columns, categories))\n",
    "    return S, tags"
   ]
  },
  {
   "cell_type": "code",
   "execution_count": null,
   "id": "40374c36-a0f0-4539-92af-1bcbdfe26714",
   "metadata": {},
   "outputs": [],
   "source": [
    "#| export\n",
    "def aggregate(\n",
    "        df: pd.DataFrame, # DataFrame with columns `['ds', 'y']` and columns to aggregate\n",
    "        spec: List[List[str]], # List of levels. Each element of the list contains a list of columns of `df` to aggregate.\n",
    "        agg_fn: Callable = np.sum# Function used to aggregate `'y'`.\n",
    "    ):\n",
    "    \"\"\"Aggregates `df` according to `spec` using `agg_fn`.\"\"\"\n",
    "    max_len_idx = np.argmax([len(hier) for hier in spec])\n",
    "    bottom_comb = spec[max_len_idx]\n",
    "    orig_cols = df.drop(labels=['ds', 'y'], axis=1).columns.to_list()\n",
    "    df_hiers = []\n",
    "    for hier in spec:\n",
    "        df_hier = df.groupby(hier + ['ds'])['y'].apply(agg_fn).reset_index()\n",
    "        df_hier['unique_id'] = df_hier[hier].agg('/'.join, axis=1)\n",
    "        if hier == bottom_comb:\n",
    "            bottom_hier = df_hier['unique_id'].unique()\n",
    "        df_hiers.append(df_hier)\n",
    "    df_hiers = pd.concat(df_hiers)\n",
    "    S_df = df_hiers[['unique_id'] + bottom_comb].drop_duplicates().reset_index(drop=True)\n",
    "    S_df = S_df.set_index('unique_id')\n",
    "    S_df = S_df.fillna('agg')\n",
    "    hiers_cols = []\n",
    "    for hier in spec:\n",
    "        hier_col = '/'.join(hier) \n",
    "        S_df[hier_col] = S_df[hier].agg('/'.join, axis=1)\n",
    "        hiers_cols.append(hier_col)\n",
    "    y_df = df_hiers[['unique_id', 'ds', 'y']].set_index('unique_id')\n",
    "    #S definition\n",
    "    S, tags = _to_summing_matrix(S_df.loc[bottom_hier, hiers_cols])\n",
    "    return y_df, S, tags"
   ]
  },
  {
   "cell_type": "code",
   "execution_count": null,
   "id": "95b3ec5f-2dcf-4232-8a89-f76c445e0441",
   "metadata": {},
   "outputs": [],
   "source": [
    "show_doc(aggregate)"
   ]
  },
  {
   "cell_type": "code",
   "execution_count": null,
   "id": "96fd8bd9-d7e8-4602-a1ad-021f404532f9",
   "metadata": {},
   "outputs": [],
   "source": [
    "#| hide\n",
    "df = pd.read_csv('https://raw.githubusercontent.com/Nixtla/transfer-learning-time-series/main/datasets/tourism.csv')\n",
    "df = df.rename({'Trips': 'y', 'Quarter': 'ds'}, axis=1)\n",
    "df.insert(0, 'Country', 'Australia')\n",
    "hiers_grouped = [\n",
    "    ['Country'],\n",
    "    ['Country', 'State'], \n",
    "    ['Country', 'Purpose'], \n",
    "    ['Country', 'State', 'Region'], \n",
    "    ['Country', 'State', 'Purpose'], \n",
    "    ['Country', 'State', 'Region', 'Purpose']\n",
    "]\n",
    "hier_df, S, tags = aggregate(df, hiers_grouped)\n",
    "test_eq(len(hier_df), 34_000)\n",
    "test_eq(hier_df.index.nunique(), 425)\n",
    "test_eq(S.shape, (425, 304))\n",
    "test_eq(hier_df.index.unique(), S.index)\n",
    "test_eq(len(tags), len(hiers_grouped))"
   ]
  },
  {
   "cell_type": "markdown",
   "id": "22febc26-1901-4bef-a181-09ae2f52453b",
   "metadata": {},
   "source": [
    "## Plots"
   ]
  },
  {
   "cell_type": "code",
   "execution_count": null,
   "id": "b125e256-c210-4776-ac55-9841acee583b",
   "metadata": {},
   "outputs": [],
   "source": [
    "#| export\n",
    "class HierarchicalPlot:\n",
    "    \n",
    "    def __init__(\n",
    "        self,\n",
    "        S: pd.DataFrame,    #  Summing matrix of size `(base, bottom)`.\n",
    "        tags: Dict[str, np.ndarray], # Each key is a level and its value contains tags associated to that level.\n",
    "    ):\n",
    "        self.S = S\n",
    "        self.tags = tags\n",
    "        \n",
    "    def plot_summing_matrix(self):\n",
    "        plt.figure(num=1, figsize=(4, 6), dpi=80, facecolor='w')\n",
    "        plt.spy(self.S)\n",
    "        plt.show()\n",
    "        plt.close()\n",
    "        \n",
    "    def plot_series(\n",
    "            self, \n",
    "            series: str, # Time series to plot\n",
    "            Y_df: Optional[pd.DataFrame] = None, # Dataframe with columns `ds` and models to plot indexed by `unique_id`.\n",
    "            models: Optional[List[str]] = None, # Models to plot. \n",
    "            level: Optional[List[int]] = None # Levels for probabilistic intervals\n",
    "        ):\n",
    "        if series not in self.S.index:\n",
    "            raise Exception(f'time series {series} not found')\n",
    "        fig, ax = plt.subplots(1, 1, figsize = (20, 7))\n",
    "        df_plot = Y_df.loc[series].set_index('ds')\n",
    "        cols = models if models is not None else df_plot.columns\n",
    "        cols_wo_levels = [col for col in cols if ('lo' not in col and 'hi' not in col)]\n",
    "        cmap = mcp.gen_color('tab20', len(cols_wo_levels))\n",
    "        cmap_dict = dict(zip(cols_wo_levels, cmap))\n",
    "        df_plot[cols_wo_levels].plot(ax=ax, linewidth=2, color=cmap)\n",
    "        if level is not None:\n",
    "            for lv in level:\n",
    "                for col in cols_wo_levels:\n",
    "                    if col == 'y':\n",
    "                        # we dont need intervals\n",
    "                        # for the actual value\n",
    "                        continue\n",
    "                    if f'{col}-lo-{lv}' not in df_plot.columns:\n",
    "                        # if model\n",
    "                        # doesnt have levels\n",
    "                        continue\n",
    "                    ax.fill_between(\n",
    "                        df_plot.index, \n",
    "                        df_plot[f'{col}-lo-{lv}'], \n",
    "                        df_plot[f'{col}-hi-{lv}'],\n",
    "                        alpha=-lv/50 + 2,\n",
    "                        color=cmap_dict[col],\n",
    "                        label=f'{col}_level_{lv}'\n",
    "                    )\n",
    "        ax.set_title(f'{series} Forecast', fontsize=22)\n",
    "        ax.set_xlabel('Timestamp [t]', fontsize=20)\n",
    "        ax.legend(prop={'size': 15})\n",
    "        ax.grid()\n",
    "        for label in (ax.get_xticklabels() + ax.get_yticklabels()):\n",
    "            label.set_fontsize(20)\n",
    "                    \n",
    "    def plot_hierarchically_linked_data(\n",
    "        self,\n",
    "        bottom_series: str, # Bottom time series to plot\n",
    "        Y_df: Optional[pd.DataFrame] = None, # Dataframe with columns `ds` and models to plot indexed by `unique_id`.\n",
    "        models: Optional[List[str]] = None, # Models to plot. \n",
    "        level: Optional[List[int]] = None # Levels for probabilistic intervals\n",
    "    ):\n",
    "        if bottom_series not in self.S.columns:\n",
    "            raise Exception(f'bottom time series {bottom_series} not found')\n",
    "        linked_series = self.S[bottom_series].loc[lambda x: x == 1.].index\n",
    "        fig, axs = plt.subplots(len(linked_series), 1, figsize=(14, 2 * len(linked_series)))\n",
    "        cols = models if models is not None else Y_df.drop(['ds'], axis=1)\n",
    "        cols_wo_levels = [col for col in cols if ('lo' not in col and 'hi' not in col)]\n",
    "        cmap = mcp.gen_color('tab20', len(cols_wo_levels))\n",
    "        cmap_dict = dict(zip(cols_wo_levels, cmap))\n",
    "        for idx, series in enumerate(linked_series):\n",
    "            df_plot = Y_df.loc[series].set_index('ds')\n",
    "            df_plot[cols_wo_levels].plot(ax=axs[idx], linewidth=2, color=cmap)\n",
    "            if level is not None:\n",
    "                for lv in level:\n",
    "                    for col in cols_wo_levels:\n",
    "                        if col == 'y':\n",
    "                            # we dont need intervals\n",
    "                            # for the actual value\n",
    "                            continue\n",
    "                        if f'{col}-lo-{lv}' not in df_plot.columns:\n",
    "                            # if model\n",
    "                            # doesnt have levels\n",
    "                            continue\n",
    "                        axs[idx].fill_between(\n",
    "                            df_plot.index, \n",
    "                            df_plot[f'{col}-lo-{lv}'], \n",
    "                            df_plot[f'{col}-hi-{lv}'],\n",
    "                            alpha=-lv/50 + 2,\n",
    "                            color=cmap_dict[col],\n",
    "                            label=f'{col}_level_{lv}'\n",
    "                        )\n",
    "            axs[idx].set_title(f'{series}', fontsize=10)\n",
    "            axs[idx].legend(prop={'size': 10})\n",
    "            axs[idx].grid()\n",
    "            axs[idx].get_xaxis().label.set_visible(False)\n",
    "            for label in (axs[idx].get_xticklabels() + axs[idx].get_yticklabels()):\n",
    "                label.set_fontsize(10)\n",
    "        plt.subplots_adjust(hspace=0.4)"
   ]
  },
  {
   "cell_type": "code",
   "execution_count": null,
   "id": "61a096f7-2e9a-4a51-80e3-4552ec8eaa97",
   "metadata": {},
   "outputs": [],
   "source": [
    "#| hide\n",
    "add_docs(HierarchicalPlot, \"Hierarchical plots.\",\n",
    "         plot_summing_matrix=\"Plots summing matrix S.\",\n",
    "         plot_series=\"Plots specific time series\",\n",
    "         plot_hierarchically_linked_data=\"Plots hierarchical linked data based on a bottom time series\")"
   ]
  },
  {
   "cell_type": "code",
   "execution_count": null,
   "id": "d27c4cff-ebbe-41f9-920b-7bbc997d0adc",
   "metadata": {},
   "outputs": [],
   "source": [
    "show_doc(HierarchicalPlot)"
   ]
  },
  {
   "cell_type": "code",
   "execution_count": null,
   "id": "45d1872c-7979-44f7-972b-2031729b04b0",
   "metadata": {},
   "outputs": [],
   "source": [
    "show_doc(HierarchicalPlot.plot_summing_matrix)"
   ]
  },
  {
   "cell_type": "code",
   "execution_count": null,
   "id": "9fa265cd-0c05-4617-a40a-f2c62513f7a2",
   "metadata": {},
   "outputs": [],
   "source": [
    "show_doc(HierarchicalPlot.plot_hierarchically_linked_data)"
   ]
  },
  {
   "cell_type": "code",
   "execution_count": null,
   "id": "662bdbce-cb13-4ba2-a794-1cd1bc3b96a8",
   "metadata": {},
   "outputs": [],
   "source": [
    "#| hide\n",
    "hplots = HierarchicalPlot(S=S, tags=tags)\n",
    "hplots.plot_summing_matrix()"
   ]
  },
  {
   "cell_type": "code",
   "execution_count": null,
   "id": "cdaa2909-6344-4b6c-a4d9-6d4f903ce408",
   "metadata": {},
   "outputs": [],
   "source": [
    "#| hide\n",
    "hier_df['Model'] = hier_df['y'] * 1.1\n",
    "hier_df['Model-lo-80'] = hier_df['Model'] - 0.1 * hier_df['Model']\n",
    "hier_df['Model-hi-80'] = hier_df['Model'] + 0.1 * hier_df['Model']\n",
    "hplots.plot_series(\n",
    "    series='Australia', \n",
    "    Y_df=hier_df,\n",
    "    level=[80, 90]\n",
    ")"
   ]
  },
  {
   "cell_type": "code",
   "execution_count": null,
   "id": "88068d1a-b670-410a-975e-a92e22ea9948",
   "metadata": {},
   "outputs": [],
   "source": [
    "hplots.plot_series(\n",
    "    series='Australia', \n",
    "    Y_df=hier_df,\n",
    ")"
   ]
  },
  {
   "cell_type": "code",
   "execution_count": null,
   "id": "60b90ed3-e1c3-47da-850b-ccda3319f630",
   "metadata": {},
   "outputs": [],
   "source": [
    "#| hide\n",
    "hplots.plot_hierarchically_linked_data(\n",
    "    bottom_series='Australia/Western Australia/Experience Perth/Visiting', \n",
    "    Y_df=hier_df,\n",
    "    level=[80, 90]\n",
    ")"
   ]
  },
  {
   "cell_type": "code",
   "execution_count": null,
   "id": "f45855eb-e800-40db-a00b-5ddb956ae348",
   "metadata": {},
   "outputs": [],
   "source": [
    "#| hide\n",
    "hplots.plot_hierarchically_linked_data(\n",
    "    bottom_series='Australia/Western Australia/Experience Perth/Visiting', \n",
    "    Y_df=hier_df,\n",
    ")"
   ]
  }
 ],
 "metadata": {
  "kernelspec": {
   "display_name": "Python 3 (ipykernel)",
   "language": "python",
   "name": "python3"
  }
 },
 "nbformat": 4,
 "nbformat_minor": 5
}
