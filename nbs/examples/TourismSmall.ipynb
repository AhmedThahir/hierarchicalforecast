{
 "cells": [
  {
   "cell_type": "markdown",
   "id": "843cf8de-d678-4243-a8af-d78439058e6a",
   "metadata": {},
   "source": [
    "# Quick Start\n",
    ">Minimal Example of HierachicalForecast"
   ]
  },
  {
   "cell_type": "markdown",
   "id": "e9e5cafc-68db-4752-bfe0-b360cd8d9e1f",
   "metadata": {},
   "source": [
    "<a href=\"https://colab.research.google.com/github/Nixtla/hierarchicalforecast/blob/main/nbs/examples/TourismSmall.ipynb\" target=\"_parent\"><img src=\"https://colab.research.google.com/assets/colab-badge.svg\" alt=\"Open In Colab\"/></a>"
   ]
  },
  {
   "cell_type": "markdown",
   "id": "0a836410-7063-4766-b03c-7d22b6abe457",
   "metadata": {},
   "source": [
    "Large collections of time series organized into structures at different aggregation levels often require their forecasts to follow their aggregation constraints, which poses the challenge of creating novel algorithms capable of coherent forecasts. \n",
    "\n",
    "The `HierarchicalForecast` package provides a wide collection of Python implementations of hierarchical forecasting algorithms that follow classic hierarchical reconciliation.\n",
    "\n",
    "Hierarchical Forecast or Hierarchical Reconciliation of Forecasts refers to the process of coherently reconciling forecasts of different levels or hierarchies. \n",
    "\n",
    "This guide assumes you have historical data at the lowest level of aggregation. \n",
    "\n",
    "You will:\n",
    "\n",
    "1. Instal the necessary libraries\n",
    "\n",
    "1. Do the necessary data wrangling.\n",
    "In this step, you will start with historical data at the lowest level of aggregation. E.g. Sales at a product store level and you will generate a hierachical data frame for your past observations (Y_df_hierachical).\n",
    "\n",
    "1. Use StatsForecast to forecast every possible level of your data.\n",
    "In this step, you will use Y_hierachical_df as input for your forescasts and generate Y_hierachical_forecasts_df. \n",
    "\n",
    "1. Reconcile those forecast coherently\n",
    "In this step, you will take Y_hierachical_forecasts_df and generate a reconciled version. \n"
   ]
  },
  {
   "cell_type": "markdown",
   "id": "63c6ed19",
   "metadata": {},
   "source": [
    "## Install libraries"
   ]
  },
  {
   "cell_type": "markdown",
   "id": "b0f3a57d",
   "metadata": {},
   "source": [
    "We assume you have HierachicalForecast already installed. Check this guide for instructions on [how to install HierachicalForecast](./Installation.ipynb).\n",
    "\n",
    "Additionally, we will install `statsforecast` to generate blazing-fast forecasts. You can read more about StatsForecast [here](https://github.com/nixtla/statsforecast).\n",
    "\n",
    "Install the necessary packages using `pip install statsforecast`\n",
    "``"
   ]
  },
  {
   "cell_type": "code",
   "execution_count": null,
   "id": "7f777bdd-dff4-4bc0-8529-b492874de6f0",
   "metadata": {
    "vscode": {
     "languageId": "python"
    }
   },
   "outputs": [],
   "source": [
    "%%capture\n",
    "!pip install hierarchicalforecast statsforecast"
   ]
  },
  {
   "cell_type": "code",
   "execution_count": null,
   "id": "f7a5828a-2fb4-4811-9e07-0ee291331978",
   "metadata": {
    "vscode": {
     "languageId": "python"
    }
   },
   "outputs": [],
   "source": [
    "import numpy as np\n",
    "import pandas as pd\n",
    "\n",
    "#obtain hierarchical data\n",
    "from datasetsforecast.hierarchical import HierarchicalData\n",
    "\n",
    "# compute base forecast no coherent\n",
    "from statsforecast.core import StatsForecast\n",
    "from statsforecast.models import AutoARIMA, Naive\n",
    "\n",
    "#obtain hierarchical reconciliation methods and evaluation\n",
    "from hierarchicalforecast.core import HierarchicalReconciliation\n",
    "from hierarchicalforecast.evaluation import HierarchicalEvaluation\n",
    "from hierarchicalforecast.methods import BottomUp, TopDown, MiddleOut"
   ]
  },
  {
   "cell_type": "markdown",
   "id": "2b31d0ee",
   "metadata": {},
   "source": [
    "## Read the Data"
   ]
  },
  {
   "cell_type": "markdown",
   "id": "3e921d0e-ac88-440a-a961-02ef9844b403",
   "metadata": {},
   "source": [
    "In this example we will use the `TourismSmall` dataset. The following cell gets the time series for the different levels in the hierarchy, the summing matrix `S` which recovers the full dataset from the bottom level hierarchy and the indices of each hierarchy denoted by `tags`."
   ]
  },
  {
   "cell_type": "code",
   "execution_count": null,
   "id": "c18a4300-5b8f-45b5-92ce-e52f8c4dab20",
   "metadata": {
    "vscode": {
     "languageId": "python"
    }
   },
   "outputs": [],
   "source": [
    "Y_df, S_df, tags = HierarchicalData.load('./data', 'TourismSmall')\n",
    "####### Kin, creo que hay que cambiar el ejemplo  a una bottom solamente. "
   ]
  },
  {
   "cell_type": "code",
   "execution_count": null,
   "id": "5c6d7ad8-c219-4c95-9736-700e372ddb32",
   "metadata": {
    "vscode": {
     "languageId": "python"
    }
   },
   "outputs": [
    {
     "data": {
      "text/html": [
       "<div>\n",
       "<style scoped>\n",
       "    .dataframe tbody tr th:only-of-type {\n",
       "        vertical-align: middle;\n",
       "    }\n",
       "\n",
       "    .dataframe tbody tr th {\n",
       "        vertical-align: top;\n",
       "    }\n",
       "\n",
       "    .dataframe thead th {\n",
       "        text-align: right;\n",
       "    }\n",
       "</style>\n",
       "<table border=\"1\" class=\"dataframe\">\n",
       "  <thead>\n",
       "    <tr style=\"text-align: right;\">\n",
       "      <th></th>\n",
       "      <th>unique_id</th>\n",
       "      <th>ds</th>\n",
       "      <th>y</th>\n",
       "    </tr>\n",
       "  </thead>\n",
       "  <tbody>\n",
       "    <tr>\n",
       "      <th>0</th>\n",
       "      <td>total</td>\n",
       "      <td>1998-03-31</td>\n",
       "      <td>84503</td>\n",
       "    </tr>\n",
       "    <tr>\n",
       "      <th>1</th>\n",
       "      <td>total</td>\n",
       "      <td>1998-06-30</td>\n",
       "      <td>65312</td>\n",
       "    </tr>\n",
       "    <tr>\n",
       "      <th>2</th>\n",
       "      <td>total</td>\n",
       "      <td>1998-09-30</td>\n",
       "      <td>72753</td>\n",
       "    </tr>\n",
       "    <tr>\n",
       "      <th>3</th>\n",
       "      <td>total</td>\n",
       "      <td>1998-12-31</td>\n",
       "      <td>70880</td>\n",
       "    </tr>\n",
       "    <tr>\n",
       "      <th>4</th>\n",
       "      <td>total</td>\n",
       "      <td>1999-03-31</td>\n",
       "      <td>86893</td>\n",
       "    </tr>\n",
       "  </tbody>\n",
       "</table>\n",
       "</div>"
      ],
      "text/plain": [
       "  unique_id         ds      y\n",
       "0     total 1998-03-31  84503\n",
       "1     total 1998-06-30  65312\n",
       "2     total 1998-09-30  72753\n",
       "3     total 1998-12-31  70880\n",
       "4     total 1999-03-31  86893"
      ]
     },
     "execution_count": null,
     "metadata": {},
     "output_type": "execute_result"
    }
   ],
   "source": [
    "Y_df.head()"
   ]
  },
  {
   "cell_type": "markdown",
   "id": "56a7aadb-6e2c-456a-a0b5-b29b30deadb5",
   "metadata": {},
   "source": [
    "We split the dataframe in train/test splits."
   ]
  },
  {
   "cell_type": "markdown",
   "id": "dd7b1a38",
   "metadata": {},
   "source": [
    "## Split Data"
   ]
  },
  {
   "cell_type": "code",
   "execution_count": null,
   "id": "462451d8-2fc0-445e-9458-908811011dd9",
   "metadata": {
    "vscode": {
     "languageId": "python"
    }
   },
   "outputs": [],
   "source": [
    "Y_test_df = Y_df.groupby('unique_id').tail(12)\n",
    "Y_train_df = Y_df.drop(Y_test_df.index)"
   ]
  },
  {
   "cell_type": "code",
   "execution_count": null,
   "id": "ab321103-cca1-4931-8f5d-cd8026ab63fe",
   "metadata": {
    "vscode": {
     "languageId": "python"
    }
   },
   "outputs": [],
   "source": [
    "Y_test_df = Y_test_df.set_index('unique_id')\n",
    "Y_train_df = Y_train_df.set_index('unique_id')"
   ]
  },
  {
   "cell_type": "markdown",
   "id": "376ae09d",
   "metadata": {},
   "source": [
    "## Generate Hierarchical Data Frame"
   ]
  },
  {
   "cell_type": "markdown",
   "id": "bbf5cf59",
   "metadata": {},
   "source": [
    "Pendiente"
   ]
  },
  {
   "cell_type": "markdown",
   "id": "203508aa",
   "metadata": {},
   "source": [
    "## Forecast all levels "
   ]
  },
  {
   "cell_type": "markdown",
   "id": "b7cfb43a-cd16-418c-a04b-e075c176cc9e",
   "metadata": {},
   "source": [
    "The following cell computes the *base forecast* for each time series using the `auto_arima` and `naive` models. Observe that `Y_hat_df` contains the forecasts but they are not coherent."
   ]
  },
  {
   "cell_type": "markdown",
   "id": "273873cd",
   "metadata": {},
   "source": [
    "We fit the models by instantiating a new `StatsForecast` object with the following parameters:\n",
    "\n",
    "* `models`: a list of models. Select the models you want from StatsForecast.\n",
    "\n",
    "* `freq`: a string indicating the frequency of the data. (See [panda's available frequencies](https://pandas.pydata.org/pandas-docs/stable/user_guide/timeseries.html#offset-aliases).)\n",
    "\n",
    "* `n_jobs`: n_jobs: int, number of jobs used in the parallel processing, use -1 for all cores.\n",
    "\n",
    "* `fallback_model`: a model to be used if a model fails. \n",
    "\n",
    "\n",
    "Any settings are passed into the constructor. Then you call its fit method and pass in the historical data frame.\n"
   ]
  },
  {
   "cell_type": "code",
   "execution_count": null,
   "id": "f99e7b7b-f4b8-4f2f-a1a7-c8be98a1e280",
   "metadata": {
    "vscode": {
     "languageId": "python"
    }
   },
   "outputs": [],
   "source": [
    "%%capture\n",
    "sf = StatsForecast(\n",
    "    df=Y_train_df, \n",
    "    models=[AutoARIMA(season_length=12), Naive()], \n",
    "    freq='M', \n",
    "    n_jobs=-1\n",
    ")\n",
    "Y_hat_df = sf.forecast(h=12)"
   ]
  },
  {
   "cell_type": "markdown",
   "id": "c536c205",
   "metadata": {},
   "source": [
    "## Reconcile them"
   ]
  },
  {
   "cell_type": "markdown",
   "id": "cc296762-2009-4aef-8b31-f24aad9d0787",
   "metadata": {},
   "source": [
    "The following cell makes the previous forecasts coherent using the `HierarchicalReconciliation` class. The used methods to make the forecasts coherent are:\n",
    "- `BottomUp`: The reconciliation of the method is a simple addition to the upper levels.\n",
    "- `TopDown`: The second method constrains the base-level predictions to the top-most aggregate-level serie and then distributes it to the disaggregate series through the use of proportions. \n",
    "- `MiddleOut`: Anchors the base predictions in a middle level."
   ]
  },
  {
   "cell_type": "code",
   "execution_count": null,
   "id": "a43be9e7-99a9-4981-bfd7-8552efba9751",
   "metadata": {
    "vscode": {
     "languageId": "python"
    }
   },
   "outputs": [],
   "source": [
    "reconcilers = [\n",
    "    BottomUp(),\n",
    "    TopDown(method='forecast_proportions'),\n",
    "    MiddleOut(middle_level='Country/Purpose/State', \n",
    "              top_down_method='forecast_proportions')\n",
    "]\n",
    "hrec = HierarchicalReconciliation(reconcilers=reconcilers)\n",
    "Y_rec_df = hrec.reconcile(Y_hat_df=Y_hat_df, Y_df=Y_train_df, \n",
    "                          S=S_df, tags=tags)"
   ]
  },
  {
   "cell_type": "markdown",
   "id": "8a8abbb8",
   "metadata": {},
   "source": [
    "## Evaluate your coherent forecasts"
   ]
  },
  {
   "cell_type": "markdown",
   "id": "03c4752c-53f8-4b1f-8169-32075b8e4050",
   "metadata": {},
   "source": [
    "The `HierarchicalForecast` package includes the `HierarchicalEvaluation` class to evaluate the different hierarchies and also is capable of compute scaled metrics compared to a benchmark model."
   ]
  },
  {
   "cell_type": "code",
   "execution_count": null,
   "id": "a793cff0-e6bf-469d-86d8-cf6ce7a8d922",
   "metadata": {
    "vscode": {
     "languageId": "python"
    }
   },
   "outputs": [
    {
     "data": {
      "text/html": [
       "<div>\n",
       "<style scoped>\n",
       "    .dataframe tbody tr th:only-of-type {\n",
       "        vertical-align: middle;\n",
       "    }\n",
       "\n",
       "    .dataframe tbody tr th {\n",
       "        vertical-align: top;\n",
       "    }\n",
       "\n",
       "    .dataframe thead tr th {\n",
       "        text-align: left;\n",
       "    }\n",
       "</style>\n",
       "<table border=\"1\" class=\"dataframe\">\n",
       "  <thead>\n",
       "    <tr>\n",
       "      <th>level</th>\n",
       "      <th>Overall</th>\n",
       "      <th>Country</th>\n",
       "      <th>Country/Purpose</th>\n",
       "      <th>Country/Purpose/State</th>\n",
       "      <th>Country/Purpose/State/CityNonCity</th>\n",
       "    </tr>\n",
       "    <tr>\n",
       "      <th>metric</th>\n",
       "      <th>mse-scaled</th>\n",
       "      <th>mse-scaled</th>\n",
       "      <th>mse-scaled</th>\n",
       "      <th>mse-scaled</th>\n",
       "      <th>mse-scaled</th>\n",
       "    </tr>\n",
       "  </thead>\n",
       "  <tbody>\n",
       "    <tr>\n",
       "      <th>AutoARIMA</th>\n",
       "      <td>0.959048</td>\n",
       "      <td>1.051918</td>\n",
       "      <td>0.906252</td>\n",
       "      <td>0.909365</td>\n",
       "      <td>0.845243</td>\n",
       "    </tr>\n",
       "    <tr>\n",
       "      <th>AutoARIMA/BottomUp</th>\n",
       "      <td>0.914598</td>\n",
       "      <td>0.988955</td>\n",
       "      <td>0.869388</td>\n",
       "      <td>0.864788</td>\n",
       "      <td>0.845243</td>\n",
       "    </tr>\n",
       "    <tr>\n",
       "      <th>AutoARIMA/TopDown_method-forecast_proportions</th>\n",
       "      <td>0.972468</td>\n",
       "      <td>1.051918</td>\n",
       "      <td>0.88779</td>\n",
       "      <td>0.97276</td>\n",
       "      <td>0.9452</td>\n",
       "    </tr>\n",
       "    <tr>\n",
       "      <th>AutoARIMA/MiddleOut_middle_level-Country/Purpose/State_top_down_method-forecast_proportions</th>\n",
       "      <td>0.895918</td>\n",
       "      <td>0.950773</td>\n",
       "      <td>0.830191</td>\n",
       "      <td>0.909365</td>\n",
       "      <td>0.883235</td>\n",
       "    </tr>\n",
       "  </tbody>\n",
       "</table>\n",
       "</div>"
      ],
      "text/plain": [
       "level                                                 Overall    Country  \\\n",
       "metric                                             mse-scaled mse-scaled   \n",
       "AutoARIMA                                            0.959048   1.051918   \n",
       "AutoARIMA/BottomUp                                   0.914598   0.988955   \n",
       "AutoARIMA/TopDown_method-forecast_proportions        0.972468   1.051918   \n",
       "AutoARIMA/MiddleOut_middle_level-Country/Purpos...   0.895918   0.950773   \n",
       "\n",
       "level                                              Country/Purpose  \\\n",
       "metric                                                  mse-scaled   \n",
       "AutoARIMA                                                 0.906252   \n",
       "AutoARIMA/BottomUp                                        0.869388   \n",
       "AutoARIMA/TopDown_method-forecast_proportions              0.88779   \n",
       "AutoARIMA/MiddleOut_middle_level-Country/Purpos...        0.830191   \n",
       "\n",
       "level                                              Country/Purpose/State  \\\n",
       "metric                                                        mse-scaled   \n",
       "AutoARIMA                                                       0.909365   \n",
       "AutoARIMA/BottomUp                                              0.864788   \n",
       "AutoARIMA/TopDown_method-forecast_proportions                    0.97276   \n",
       "AutoARIMA/MiddleOut_middle_level-Country/Purpos...              0.909365   \n",
       "\n",
       "level                                              Country/Purpose/State/CityNonCity  \n",
       "metric                                                                    mse-scaled  \n",
       "AutoARIMA                                                                   0.845243  \n",
       "AutoARIMA/BottomUp                                                          0.845243  \n",
       "AutoARIMA/TopDown_method-forecast_proportions                                 0.9452  \n",
       "AutoARIMA/MiddleOut_middle_level-Country/Purpos...                          0.883235  "
      ]
     },
     "execution_count": null,
     "metadata": {},
     "output_type": "execute_result"
    }
   ],
   "source": [
    "def mse(y, y_hat):\n",
    "    return np.mean((y-y_hat)**2)\n",
    "\n",
    "evaluator = HierarchicalEvaluation(evaluators=[mse])\n",
    "evaluation = evaluator.evaluate(\n",
    "        Y_hat_df=Y_rec_df, Y_test_df=Y_test_df, \n",
    "        tags=tags, benchmark='Naive'\n",
    ")\n",
    "evaluation.filter(like='ARIMA', axis=1).T"
   ]
  },
  {
   "cell_type": "markdown",
   "id": "a51830f5",
   "metadata": {},
   "source": [
    "### References\n",
    "- [Orcutt, G.H., Watts, H.W., & Edwards, J.B.(1968). Data aggregation and information loss. The American \n",
    "Economic Review, 58 , 773{787)](http://www.jstor.org/stable/1815532).\n",
    "- [Disaggregation methods to expedite product line forecasting. Journal of Forecasting, 9 , 233–254. \n",
    "doi:10.1002/for.3980090304](https://onlinelibrary.wiley.com/doi/abs/10.1002/for.3980090304).<br>\n",
    "- [An investigation of aggregate variable time series forecast strategies with specific subaggregate \n",
    "time series statistical correlation. Computers and Operations Research, 26 , 1133–1149. \n",
    "doi:10.1016/S0305-0548(99)00017-9](https://doi.org/10.1016/S0305-0548(99)00017-9).\n",
    "- [Hyndman, R.J., & Athanasopoulos, G. (2021). \"Forecasting: principles and practice, 3rd edition: \n",
    "Chapter 11: Forecasting hierarchical and grouped series.\". OTexts: Melbourne, Australia. OTexts.com/fpp3 \n",
    "Accessed on July 2022.](https://otexts.com/fpp3/hierarchical.html)"
   ]
  }
 ],
 "metadata": {
  "kernelspec": {
   "display_name": "Python 3.10.6 ('hierarchicalforecast')",
   "language": "python",
   "name": "python3"
  }
 },
 "nbformat": 4,
 "nbformat_minor": 5
}
