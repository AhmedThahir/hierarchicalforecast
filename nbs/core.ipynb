{
 "cells": [
  {
   "cell_type": "code",
   "execution_count": null,
   "metadata": {},
   "outputs": [],
   "source": [
    "# default_exp core"
   ]
  },
  {
   "cell_type": "markdown",
   "metadata": {},
   "source": [
    "# Core Hierarchical \n",
    "\n",
    "> Module for Hierarchical Reconciliation."
   ]
  },
  {
   "cell_type": "code",
   "execution_count": null,
   "metadata": {},
   "outputs": [],
   "source": [
    "#export\n",
    "from dataclasses import dataclass\n",
    "from functools import partial\n",
    "from inspect import signature\n",
    "from typing import Callable, List\n",
    "\n",
    "import numpy as np\n",
    "import pandas as pd"
   ]
  },
  {
   "cell_type": "code",
   "execution_count": null,
   "metadata": {},
   "outputs": [],
   "source": [
    "#export\n",
    "def _reconcile(S: np.ndarray, P: np.ndarray, W: np.ndarray, \n",
    "               y_hat: np.ndarray, SP: np.ndarray = None):\n",
    "    if SP is None:\n",
    "        SP = S @ P\n",
    "    return np.matmul(SP, y_hat)"
   ]
  },
  {
   "cell_type": "code",
   "execution_count": null,
   "metadata": {},
   "outputs": [],
   "source": [
    "#export\n",
    "def bottom_up(S: np.ndarray,\n",
    "              y_hat: np.ndarray):\n",
    "    n_hiers, n_bottom = S.shape\n",
    "    P = np.eye(n_bottom, n_hiers, k=(n_hiers - n_bottom), dtype=np.float32)\n",
    "    W = np.eye(n_hiers, dtype=np.float32)\n",
    "    return _reconcile(S, P, W, y_hat)"
   ]
  },
  {
   "cell_type": "code",
   "execution_count": null,
   "metadata": {},
   "outputs": [],
   "source": [
    "#export\n",
    "def top_down(S: np.ndarray, \n",
    "             y_hat: np.ndarray,\n",
    "             y: np.ndarray,\n",
    "             idx_bottom: List[int],\n",
    "             method: str):\n",
    "    n_hiers, n_bottom = S.shape\n",
    "    idx_top = int(S.sum(axis=1).argmax())\n",
    "    #add strictly hierarchical assert\n",
    "    \n",
    "    if method == 'forecast_proportions':\n",
    "        raise NotImplementedError(f'Method {method} not implemented yet')\n",
    "    else:\n",
    "        y_top = y[idx_top]\n",
    "        y_btm = y[idx_bottom]\n",
    "        if method == 'average_proportions':\n",
    "            prop = np.mean(y_btm / y_top, axis=1)\n",
    "        elif method == 'proportion_averages':\n",
    "            prop = np.mean(y_btm, axis=1) / np.mean(y_top)\n",
    "        else:\n",
    "            raise Exception(f'Unknown method {method}')\n",
    "    P = np.zeros_like(S).T\n",
    "    P[:, idx_top] = prop\n",
    "    W = np.eye(n_hiers, dtype=np.float32)\n",
    "    return _reconcile(S, P, W, y_hat)"
   ]
  },
  {
   "cell_type": "code",
   "execution_count": null,
   "metadata": {},
   "outputs": [],
   "source": [
    "#export\n",
    "def crossprod(x):\n",
    "    return x.T @ x"
   ]
  },
  {
   "cell_type": "code",
   "execution_count": null,
   "metadata": {},
   "outputs": [],
   "source": [
    "#export\n",
    "def min_trace(S: np.ndarray, \n",
    "              y_hat: np.ndarray,\n",
    "              residuals: np.ndarray,\n",
    "              method: str):\n",
    "    # shape residuals (obs, n_hiers)\n",
    "    res_methods = ['wls_var', 'mint_cov', 'mint_shrink']\n",
    "    if method in res_methods and residuals is None:\n",
    "        raise ValueError(f\"For methods {', '.join(res_methods)} you need to pass residuals\")\n",
    "    n_hiers, n_bottom = S.shape\n",
    "    if method == 'ols':\n",
    "        W = np.eye(n_hiers)\n",
    "    elif method == 'wls_struct':\n",
    "        W = np.diag(hfcst.S @ np.ones((n_bottom,)))\n",
    "    elif method in res_methods:\n",
    "        n, _ = residuals.shape\n",
    "        masked_res = np.ma.array(residuals, mask=np.isnan(residuals))\n",
    "        covm = np.ma.cov(masked_res, rowvar=False, allow_masked=True).data\n",
    "        if method == 'wls_var':\n",
    "            W = np.diag(np.diag(covm))\n",
    "        elif method == 'mint_cov':\n",
    "            W = covm\n",
    "        elif method == 'mint_shrink':\n",
    "            tar = np.diag(np.diag(covm))\n",
    "            corm = cov2corr(covm)\n",
    "            xs = np.divide(residuals, np.sqrt(np.diag(covm)))\n",
    "            xs = xs[~np.isnan(xs).any(axis=1), :]\n",
    "            v = (1 / (n * (n - 1))) * (crossprod(xs ** 2) - (1 / n) * (crossprod(xs) ** 2))\n",
    "            np.fill_diagonal(v, 0)\n",
    "            corapn = cov2corr(tar)\n",
    "            d = (corm - corapn) ** 2\n",
    "            lmd = v.sum() / d.sum()\n",
    "            lmd = max(min(lmd, 1), 0)\n",
    "            W = lmd * tar + (1 - lmd) * covm\n",
    "    else:\n",
    "        raise ValueError(f'Unkown reconciliation method {method}')\n",
    "    \n",
    "    eigenvalues, _ = np.linalg.eig(W)\n",
    "    if any(eigenvalues < 1e-8):\n",
    "        raise Exception('min_trace needs covariance matrix to be positive definite.')\n",
    "        \n",
    "    R = S.T @ np.linalg.inv(W)\n",
    "    P = np.linalg.inv(R @ S) @ R\n",
    "    \n",
    "    return _reconcile(S, P, W, y_hat)"
   ]
  },
  {
   "cell_type": "code",
   "execution_count": null,
   "metadata": {},
   "outputs": [],
   "source": [
    "#export\n",
    "def empirical_risk_minimization(S: np.ndarray,\n",
    "                                y_hat: np.ndarray, \n",
    "                                method: str,\n",
    "                                lambda_reg: float = 1e-2):\n",
    "    n_hiers, n_bottom = S.shape\n",
    "    if method == 'exact':\n",
    "        B = y_hat.T @ S @ np.linalg.inv(S.T @ S).T\n",
    "        P = B.T @ y_hat.T @ np.linalg.inv(y_hat @ y_hat.T + lambda_reg * np.eye(n_hiers))\n",
    "    else:\n",
    "        raise ValueError(f'Unkown reconciliation method {method}')\n",
    "        \n",
    "    W = np.eye(n_hiers, dtype=np.float32)\n",
    "    \n",
    "    return _reconcile(S, P, W, y_hat)"
   ]
  },
  {
   "cell_type": "code",
   "execution_count": null,
   "metadata": {},
   "outputs": [],
   "source": [
    "#exporti\n",
    "def _build_fn_name(fn, *args, inner_args) -> str:\n",
    "    fn_name = fn.__name__\n",
    "    func_params = signature(fn).parameters\n",
    "    func_args = list(func_params.items())\n",
    "    func_args = [(name, arg) for (name, arg) in func_args if arg.name not in inner_args]\n",
    "    changed_kwargs = {\n",
    "        name: value\n",
    "        for value, (name, arg) in zip(args, func_args)\n",
    "        if arg.default != value \n",
    "    }\n",
    "    if changed_kwargs:\n",
    "        changed_params = [f'{name}-{value}' for name, value in changed_kwargs.items()]\n",
    "        fn_name += '_' + '_'.join(changed_params)\n",
    "    return fn_name, changed_kwargs"
   ]
  },
  {
   "cell_type": "code",
   "execution_count": null,
   "metadata": {},
   "outputs": [],
   "source": [
    "#exporti\n",
    "def _as_tuple(x):\n",
    "    if isinstance(x, tuple):\n",
    "        return x\n",
    "    return (x,)"
   ]
  },
  {
   "cell_type": "code",
   "execution_count": null,
   "metadata": {},
   "outputs": [],
   "source": [
    "#export\n",
    "class HierarchicalReconciliation:\n",
    "    \n",
    "    def __init__(self, reconcile_fns: List[Callable]):\n",
    "        self.reconcile_fns = reconcile_fns\n",
    "        \n",
    "    def reconcile(self, Y_h: pd.DataFrame, Y_df: pd.DataFrame, S: pd.DataFrame):\n",
    "        \"\"\"Reconcile base forecasts.\n",
    "        \n",
    "            Parameters\n",
    "            ----------\n",
    "            Y_h: pd.DataFrame\n",
    "                Base forecasts with columns ['ds'] \n",
    "                and models to reconcile indexed by 'unique_id'.\n",
    "            Y_df: pd.DataFrame\n",
    "                Training set of base time series with columns \n",
    "                ['ds', 'y'] indexed by 'unique_id'\n",
    "                If a function of `self.reconcile_fns` receives\n",
    "                residuals, `Y_df` must include them as columns.\n",
    "            S: pd.DataFrame\n",
    "                Summing matrix of size (hierarchies, bottom).\n",
    "        \"\"\"\n",
    "        drop_cols = ['ds', 'y'] if 'y' in Y_h.columns else ['ds']\n",
    "        model_names = Y_h.drop(columns=drop_cols, axis=1).columns.to_list()\n",
    "        common_vals = dict(\n",
    "            y = Y_df.pivot(columns='ds', values='y').loc[S.index].values,\n",
    "            S = S.values,\n",
    "            idx_bottom = [S.index.get_loc(col) for col in S.columns]\n",
    "        )\n",
    "        fcsts = Y_h.copy()\n",
    "        for reconcile_fn_args in self.reconcile_fns:\n",
    "            reconcile_fn, *args = _as_tuple(reconcile_fn_args)\n",
    "            reconcile_fn_name, fn_kwargs = _build_fn_name(\n",
    "                reconcile_fn, *args, \n",
    "                inner_args=['y', 'S', 'idx_bottom', 'y_hat', 'residuals']\n",
    "            )\n",
    "            has_res = 'residuals' in signature(reconcile_fn).parameters\n",
    "            for model_name in model_names:\n",
    "                y_hat_model = Y_h.pivot(columns='ds', values=model_name).loc[S.index].values\n",
    "                if has_res:\n",
    "                    common_vals['residuals'] = Y_df.pivot(columns='ds', values=model_name).loc[S.index].values.T\n",
    "                kwargs = [key for key in signature(reconcile_fn).parameters if key in common_vals.keys()]\n",
    "                kwargs = {key: common_vals[key] for key in kwargs}\n",
    "                p_reconcile_fn = partial(reconcile_fn, y_hat=y_hat_model, **kwargs)\n",
    "                fcsts_model = p_reconcile_fn(**fn_kwargs)\n",
    "                fcsts[f'{model_name}/{reconcile_fn_name}'] = fcsts_model.flatten()\n",
    "                if has_res:\n",
    "                    del common_vals['residuals']\n",
    "        return fcsts"
   ]
  },
  {
   "cell_type": "code",
   "execution_count": null,
   "metadata": {},
   "outputs": [],
   "source": [
    "forecasts = pd.read_csv('forecasts.csv', index_col=0).drop(columns=['cutoff'])\n",
    "resids = pd.read_csv('resids.csv', index_col=0).drop(columns='cutoff')\n",
    "S = pd.read_csv('S.csv', index_col=0)"
   ]
  },
  {
   "cell_type": "code",
   "execution_count": null,
   "metadata": {},
   "outputs": [],
   "source": [
    "hrec = HierarchicalReconciliation(reconcile_fns=[\n",
    "    bottom_up, \n",
    "    (min_trace, 'ols'),\n",
    "    (empirical_risk_minimization, 'exact')\n",
    "])"
   ]
  },
  {
   "cell_type": "code",
   "execution_count": null,
   "metadata": {},
   "outputs": [],
   "source": [
    "reconciled = hrec.reconcile(forecasts, resids, S)"
   ]
  },
  {
   "cell_type": "code",
   "execution_count": null,
   "metadata": {},
   "outputs": [],
   "source": [
    "reconciled"
   ]
  },
  {
   "cell_type": "code",
   "execution_count": null,
   "metadata": {},
   "outputs": [],
   "source": []
  }
 ],
 "metadata": {
  "kernelspec": {
   "display_name": "Python 3 (ipykernel)",
   "language": "python",
   "name": "python3"
  }
 },
 "nbformat": 4,
 "nbformat_minor": 4
}
