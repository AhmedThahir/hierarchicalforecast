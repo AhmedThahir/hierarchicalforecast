{
 "cells": [
  {
   "cell_type": "code",
   "execution_count": null,
   "metadata": {},
   "outputs": [],
   "source": [
    "# default_exp core"
   ]
  },
  {
   "cell_type": "markdown",
   "metadata": {},
   "source": [
    "# Core Hierarchical \n",
    "\n",
    "> Module for Hierarchical Reconciliation."
   ]
  },
  {
   "cell_type": "code",
   "execution_count": null,
   "metadata": {},
   "outputs": [],
   "source": [
    "#export\n",
    "from functools import partial\n",
    "from inspect import signature\n",
    "from typing import Callable, List\n",
    "\n",
    "import numpy as np\n",
    "import pandas as pd"
   ]
  },
  {
   "cell_type": "code",
   "execution_count": null,
   "metadata": {},
   "outputs": [],
   "source": [
    "#hide\n",
    "from fastcore.test import test_close"
   ]
  },
  {
   "cell_type": "code",
   "execution_count": null,
   "metadata": {},
   "outputs": [],
   "source": [
    "#exporti\n",
    "def _build_fn_name(fn) -> str:\n",
    "    fn_name = type(fn).__name__\n",
    "    func_params = fn.__dict__\n",
    "    func_params = [f'{name}-{value}' for name, value in func_params.items()]\n",
    "    if func_params:\n",
    "        fn_name += '_' + '_'.join(func_params)\n",
    "    return fn_name"
   ]
  },
  {
   "cell_type": "code",
   "execution_count": null,
   "metadata": {},
   "outputs": [],
   "source": [
    "#export\n",
    "class HierarchicalReconciliation:\n",
    "    \n",
    "    def __init__(self, reconcilers: List[Callable]):\n",
    "        self.reconcilers = reconcilers\n",
    "        \n",
    "    def reconcile(self, Y_h: pd.DataFrame, Y_df: pd.DataFrame, S: pd.DataFrame):\n",
    "        \"\"\"Reconcile base forecasts.\n",
    "        \n",
    "            Parameters\n",
    "            ----------\n",
    "            Y_h: pd.DataFrame\n",
    "                Base forecasts with columns ['ds'] \n",
    "                and models to reconcile indexed by 'unique_id'.\n",
    "            Y_df: pd.DataFrame\n",
    "                Training set of base time series with columns \n",
    "                ['ds', 'y'] indexed by 'unique_id'\n",
    "                If a function of `self.reconcile_fns` receives\n",
    "                residuals, `Y_df` must include them as columns.\n",
    "            S: pd.DataFrame\n",
    "                Summing matrix of size (hierarchies, bottom).\n",
    "        \"\"\"\n",
    "        drop_cols = ['ds', 'y'] if 'y' in Y_h.columns else ['ds']\n",
    "        model_names = Y_h.drop(columns=drop_cols, axis=1).columns.to_list()\n",
    "        common_vals = dict(\n",
    "            y = Y_df.pivot(columns='ds', values='y').loc[S.index].values,\n",
    "            S = S.values,\n",
    "            idx_bottom = [S.index.get_loc(col) for col in S.columns]\n",
    "        )\n",
    "        fcsts = Y_h.copy()\n",
    "        for reconcile_fn in self.reconcilers:\n",
    "            reconcile_fn_name = _build_fn_name(reconcile_fn)\n",
    "            has_res = 'residuals' in signature(reconcile_fn).parameters\n",
    "            for model_name in model_names:\n",
    "                y_hat_model = Y_h.pivot(columns='ds', values=model_name).loc[S.index].values\n",
    "                if has_res:\n",
    "                    common_vals['residuals'] = Y_df.pivot(columns='ds', values=model_name).loc[S.index].values.T\n",
    "                kwargs = [key for key in signature(reconcile_fn).parameters if key in common_vals.keys()]\n",
    "                kwargs = {key: common_vals[key] for key in kwargs}\n",
    "                fcsts_model = reconcile_fn(y_hat=y_hat_model, **kwargs)\n",
    "                fcsts[f'{model_name}/{reconcile_fn_name}'] = fcsts_model.flatten()\n",
    "                if has_res:\n",
    "                    del common_vals['residuals']\n",
    "        return fcsts"
   ]
  },
  {
   "cell_type": "code",
   "execution_count": null,
   "metadata": {},
   "outputs": [],
   "source": [
    "#hide\n",
    "from hierarchicalforecast.methods import (\n",
    "    BottomUp, TopDown, MinTrace, ERM\n",
    ")\n",
    "from hierarchicalforecast.utils import hierarchize"
   ]
  },
  {
   "cell_type": "code",
   "execution_count": null,
   "metadata": {},
   "outputs": [],
   "source": [
    "#hide\n",
    "df = pd.read_csv('https://raw.githubusercontent.com/Nixtla/transfer-learning-time-series/main/datasets/tourism.csv')\n",
    "df = df.rename({'Trips': 'y', 'Quarter': 'ds'}, axis=1)\n",
    "df.insert(0, 'Country', 'Australia')\n",
    "hiers_grouped = [\n",
    "    ['Country'],\n",
    "    ['Country', 'State'], \n",
    "    ['Country', 'Purpose'], \n",
    "    ['Country', 'State', 'Region'], \n",
    "    ['Country', 'State', 'Purpose'], \n",
    "    ['Country', 'State', 'Region', 'Purpose']\n",
    "]\n",
    "hier_df, S = hierarchize(df, hiers_grouped)"
   ]
  },
  {
   "cell_type": "code",
   "execution_count": null,
   "metadata": {},
   "outputs": [],
   "source": [
    "#hide\n",
    "hier_df['y_model'] = hier_df['y']\n",
    "# we should be able to recover y using the methods\n",
    "hier_df_h = hier_df.groupby('unique_id').tail(12)\n",
    "ds_h = hier_df_h['ds'].unique()\n",
    "hier_df = hier_df.query('~(ds in @ds_h)')"
   ]
  },
  {
   "cell_type": "code",
   "execution_count": null,
   "metadata": {},
   "outputs": [],
   "source": [
    "#hide\n",
    "hrec = HierarchicalReconciliation(reconcilers=[\n",
    "    #these methods should reconstruct the original y\n",
    "    BottomUp(),\n",
    "    MinTrace(method='ols'),\n",
    "    MinTrace(method='wls_struct'),\n",
    "    MinTrace(method='wls_var'),\n",
    "    MinTrace(method='mint_shrink')\n",
    "])\n",
    "reconciled = hrec.reconcile(hier_df_h, hier_df, S)\n",
    "for model in reconciled.drop(columns=['ds', 'y']).columns:\n",
    "    test_close(reconciled['y'], reconciled[model])"
   ]
  }
 ],
 "metadata": {
  "kernelspec": {
   "display_name": "Python 3 (ipykernel)",
   "language": "python",
   "name": "python3"
  }
 },
 "nbformat": 4,
 "nbformat_minor": 4
}
